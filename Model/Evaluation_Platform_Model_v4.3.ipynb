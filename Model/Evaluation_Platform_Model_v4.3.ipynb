{
 "cells": [
  {
   "cell_type": "code",
   "execution_count": null,
   "metadata": {},
   "outputs": [],
   "source": [
    "import tensorflow as tf  # Importar TensorFlow\n",
    "\n",
    "# Imprimir la versión de TensorFlow instalada\n",
    "print(tf.__version__)\n",
    "\n",
    "import sklearn.metrics  # Importar métricas de Scikit-learn\n",
    "\n",
    "# Imprimir la versión de Scikit-learn instalada\n",
    "print(sklearn.__version__)"
   ]
  },
  {
   "cell_type": "code",
   "execution_count": null,
   "metadata": {},
   "outputs": [],
   "source": [
    "# Instalación de dependencias necesarias\n",
    "!pip install vit-keras tensorflow-addons opencv-python matplotlib"
   ]
  },
  {
   "cell_type": "code",
   "execution_count": null,
   "metadata": {},
   "outputs": [],
   "source": [
    "# Bibliotecas estándar de Python\n",
    "import os  # Manejo de rutas y directorios\n",
    "import random  # Generación de valores aleatorios\n",
    "import math  # Funciones matemáticas\n",
    "import gc  # Recolección manual de basura para liberar memoria\n",
    "from datetime import datetime  # Manejo de fechas y horas\n",
    "\n",
    "# Bibliotecas de terceros\n",
    "import numpy as np  # Operaciones numéricas y manejo de matrices\n",
    "import matplotlib.pyplot as plt  # Visualización de gráficos y datos\n",
    "import cv2  # OpenCV para procesamiento de imágenes\n",
    "\n",
    "# Vision Transformer (ViT) para clasificación de imágenes\n",
    "from vit_keras import vit\n",
    "\n",
    "# Imprimir información sobre la versión de TensorFlow y los dispositivos disponibles\n",
    "print(tf.__version__)\n",
    "print(\"Dispositivos físicos disponibles:\", tf.config.list_physical_devices())\n",
    "print(\"Dispositivos GPU disponibles:\", tf.config.list_physical_devices('GPU'))\n"
   ]
  },
  {
   "cell_type": "code",
   "execution_count": null,
   "metadata": {},
   "outputs": [],
   "source": [
    "from tensorflow.keras.models import load_model  # Función para cargar un modelo preentrenado\n",
    "\n",
    "# Cargar el modelo guardado desde un archivo .keras\n",
    "model = load_model(\n",
    "    \"/Users/marcperezg/Desktop/Uni/TFG/Melanoma/2_optuna_checkpoint_model_v4.3.keras\",\n",
    "    safe_mode=False  # Se desactiva el modo seguro para permitir carga sin restricciones\n",
    ")\n"
   ]
  },
  {
   "cell_type": "code",
   "execution_count": null,
   "metadata": {},
   "outputs": [],
   "source": [
    "# Tamaño de la imagen y batch size\n",
    "IMG_SIZE = 224  # Tamaño de las imágenes de entrada (debe coincidir con el modelo)\n",
    "BATCH_SIZE = 16  # Tamaño del batch para la evaluación\n",
    "\n",
    "# Directorio de las imágenes de prueba\n",
    "test_dir = '/Users/marcperezg/Desktop/Uni/TFG/Melanoma/test'\n",
    "\n",
    "# Crear dataset de prueba desde el directorio\n",
    "test_dataset = tf.keras.preprocessing.image_dataset_from_directory(\n",
    "    test_dir,\n",
    "    labels='inferred',  # Detecta automáticamente las subcarpetas como etiquetas (ej: benign, malignant)\n",
    "    label_mode='int',  # Etiquetas en formato entero (0 para benign, 1 para malignant)\n",
    "    batch_size=BATCH_SIZE,\n",
    "    image_size=(IMG_SIZE, IMG_SIZE)  # Redimensiona las imágenes al tamaño esperado por el modelo\n",
    ")\n",
    "\n",
    "# Función para normalizar las imágenes\n",
    "def normalize(image, label):\n",
    "    image = tf.cast(image, tf.float32) / 255.0  # Escala los valores de píxeles de 0 a 1\n",
    "    return image, label\n",
    "\n",
    "# Aplicar normalización al dataset de prueba\n",
    "test_dataset = test_dataset.map(normalize, num_parallel_calls=tf.data.AUTOTUNE)\n",
    "\n",
    "# Optimización del rendimiento en la carga de datos\n",
    "AUTOTUNE = tf.data.AUTOTUNE\n",
    "test_dataset = test_dataset.cache().prefetch(buffer_size=AUTOTUNE)\n"
   ]
  },
  {
   "cell_type": "code",
   "execution_count": null,
   "metadata": {},
   "outputs": [],
   "source": [
    "import tensorflow as tf\n",
    "import numpy as np\n",
    "from sklearn.metrics import f1_score, recall_score, accuracy_score, confusion_matrix, roc_auc_score\n",
    "\n",
    "# Función para evaluar el modelo en el conjunto de prueba\n",
    "def evaluate_model(model, test_dataset):\n",
    "    # Obtener etiquetas verdaderas y predicciones de probabilidad\n",
    "    y_true = np.concatenate([labels.numpy() for _, labels in test_dataset])\n",
    "    y_pred_proba = model.predict(test_dataset)  # Predicciones de probabilidad para todo el dataset\n",
    "\n",
    "    # Convertir probabilidades en clases binarias\n",
    "    y_pred = (y_pred_proba > 0.5).astype(int).flatten()\n",
    "\n",
    "    # Calcular métricas de evaluación\n",
    "    f1 = f1_score(y_true, y_pred)\n",
    "    sensitivity = recall_score(y_true, y_pred)  # Sensibilidad (Recall)\n",
    "    accuracy = accuracy_score(y_true, y_pred)\n",
    "    auc_roc = roc_auc_score(y_true, y_pred_proba)  # AUC-ROC\n",
    "\n",
    "    # Calcular la especificidad\n",
    "    conf_matrix = confusion_matrix(y_true, y_pred)\n",
    "    tn, fp, fn, tp = conf_matrix.ravel()\n",
    "    specificity = tn / (tn + fp)\n",
    "\n",
    "    # Mostrar resultados de evaluación\n",
    "    print(f\"F1 Score: {f1:.4f}\")\n",
    "    print(f\"Sensibilidad (Recall): {sensitivity:.4f}\")\n",
    "    print(f\"Especificidad: {specificity:.4f}\")\n",
    "    print(f\"Precisión (Accuracy): {accuracy:.4f}\")\n",
    "    print(f\"AUC-ROC: {auc_roc:.4f}\")\n",
    "    print(f\"Matriz de Confusión:\\n{conf_matrix}\")\n",
    "    print(f\"Malignos clasificados correctamente (TP): {tp}\")\n",
    "    print(f\"Malignos clasificados incorrectamente (FN): {fn}\")\n",
    "    print(f\"Benignos clasificados correctamente (TN): {tn}\")\n",
    "    print(f\"Benignos clasificados incorrectamente (FP): {fp}\")\n",
    "\n",
    "    # Devolver métricas en un diccionario\n",
    "    return {\n",
    "        \"F1 Score\": f1,\n",
    "        \"Sensitivity (Recall)\": sensitivity,\n",
    "        \"Specificity\": specificity,\n",
    "        \"Accuracy\": accuracy,\n",
    "        \"AUC-ROC\": auc_roc,\n",
    "        \"Confusion Matrix\": conf_matrix\n",
    "    }\n",
    "\n",
    "# Evaluar el modelo con el conjunto de prueba\n",
    "metrics = evaluate_model(model, test_dataset)\n"
   ]
  }
 ],
 "metadata": {
  "kernelspec": {
   "display_name": "melanom_test",
   "language": "python",
   "name": "python3"
  },
  "language_info": {
   "codemirror_mode": {
    "name": "ipython",
    "version": 3
   },
   "file_extension": ".py",
   "mimetype": "text/x-python",
   "name": "python",
   "nbconvert_exporter": "python",
   "pygments_lexer": "ipython3",
   "version": "3.10.16"
  }
 },
 "nbformat": 4,
 "nbformat_minor": 2
}
